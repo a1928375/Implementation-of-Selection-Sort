{
 "cells": [
  {
   "cell_type": "markdown",
   "metadata": {},
   "source": [
    "# Mine"
   ]
  },
  {
   "cell_type": "code",
   "execution_count": 1,
   "metadata": {},
   "outputs": [],
   "source": [
    "def selection_sort(arr):  \n",
    "    \n",
    "    for k in range(len(arr), 1, -1):\n",
    "        \n",
    "        largest = arr[0]\n",
    "        \n",
    "        j = 0\n",
    "        \n",
    "        for i in range(1,k):\n",
    "            \n",
    "            if arr[i] > largest:\n",
    "                \n",
    "                largest = arr[i]\n",
    "                \n",
    "                j = i\n",
    "    \n",
    "        arr[k-1], arr[j] = arr[j], arr[k-1]\n",
    "    \n",
    "    return arr\n"
   ]
  },
  {
   "cell_type": "code",
   "execution_count": 2,
   "metadata": {},
   "outputs": [
    {
     "data": {
      "text/plain": [
       "[2, 3, 5, 6, 7]"
      ]
     },
     "execution_count": 2,
     "metadata": {},
     "output_type": "execute_result"
    }
   ],
   "source": [
    "arr = [3,5,2,7,6]\n",
    "\n",
    "selection_sort(arr)"
   ]
  },
  {
   "cell_type": "markdown",
   "metadata": {},
   "source": [
    "# Instructor"
   ]
  },
  {
   "cell_type": "code",
   "execution_count": 4,
   "metadata": {},
   "outputs": [],
   "source": [
    "def selection_sort(arr):\n",
    "    \n",
    "    # For every slot in array                          # Ex: arr = [3,5,2,7,6]\n",
    "    for fillslot in range(len(arr)-1,0,-1):            #從fillslot的print-out中可以得知，fillslot = 4，3，2，1      \n",
    "                                                       # reverse是 因為1st pass是要run完整個list來找最大值 => fillslot = 4 \n",
    "                                                       # (不能到5，因為 底下fillslot+1)\n",
    "        print (\"This is fillslot(big): \", fillslot)    # 2nd pass就是run到list的 (總長-1)來找最大值 => fillslot = 3 \n",
    "                                                       # (因為list中的最右 element已經在上一run中被sorted\n",
    "        positionOfMax=0                                #不用到fillslot = 0 (因為fillslot = 0時，location = 0，但是location是要\n",
    "                                                       #從= 1開始，因為list中的first element是被assigned成positionOfMax)\n",
    "        # For every set of 0 to fillslot+1\n",
    "        for location in range(1,fillslot+1):\n",
    "            \n",
    "            print (\"This is location: \", location)\n",
    "            \n",
    "            # Set maximum's location\n",
    "            if arr[location] > arr[positionOfMax]:     #找最大\n",
    "                \n",
    "                positionOfMax = location\n",
    "\n",
    "        temp = arr[fillslot]\n",
    "        arr[fillslot] = arr[positionOfMax]             #替換最大element到最後一element\n",
    "        arr[positionOfMax] = temp\n",
    "        \n",
    "    return (arr)"
   ]
  },
  {
   "cell_type": "code",
   "execution_count": 5,
   "metadata": {},
   "outputs": [
    {
     "name": "stdout",
     "output_type": "stream",
     "text": [
      "This is fillslot(big):  4\n",
      "This is location:  1\n",
      "This is location:  2\n",
      "This is location:  3\n",
      "This is location:  4\n",
      "This is fillslot(big):  3\n",
      "This is location:  1\n",
      "This is location:  2\n",
      "This is location:  3\n",
      "This is fillslot(big):  2\n",
      "This is location:  1\n",
      "This is location:  2\n",
      "This is fillslot(big):  1\n",
      "This is location:  1\n"
     ]
    },
    {
     "data": {
      "text/plain": [
       "[2, 3, 5, 6, 7]"
      ]
     },
     "execution_count": 5,
     "metadata": {},
     "output_type": "execute_result"
    }
   ],
   "source": [
    "#arr = [3,5,2,7,6,8,12,40,21]\n",
    "\n",
    "arr = [3,5,2,7,6]\n",
    "selection_sort(arr)"
   ]
  }
 ],
 "metadata": {
  "kernelspec": {
   "display_name": "Python 3",
   "language": "python",
   "name": "python3"
  },
  "language_info": {
   "codemirror_mode": {
    "name": "ipython",
    "version": 3
   },
   "file_extension": ".py",
   "mimetype": "text/x-python",
   "name": "python",
   "nbconvert_exporter": "python",
   "pygments_lexer": "ipython3",
   "version": "3.7.3"
  }
 },
 "nbformat": 4,
 "nbformat_minor": 2
}
